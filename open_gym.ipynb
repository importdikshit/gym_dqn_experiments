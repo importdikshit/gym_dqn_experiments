{
 "cells": [
  {
   "cell_type": "code",
   "execution_count": 1,
   "metadata": {
    "collapsed": false
   },
   "outputs": [
    {
     "name": "stderr",
     "output_type": "stream",
     "text": [
      "Using TensorFlow backend.\n",
      "[2017-08-18 22:06:53,217] Making new env: Breakout-v0\n"
     ]
    }
   ],
   "source": [
    "# Importing Dependencies\n",
    "\n",
    "# For constructing the ConvNetwork that will determine the Q values of moves? \n",
    "from keras.models import Sequential\n",
    "from keras.layers import Dense, Flatten, Input\n",
    "import numpy as np\n",
    "\n",
    "# For storing and sampling observations.\n",
    "import random\n",
    "from collections import deque\n",
    "import tqdm\n",
    "\n",
    "# Construct environment and choose Breakout from Gym\n",
    "import gym\n",
    "env = gym.make('Breakout-v0')"
   ]
  },
  {
   "cell_type": "code",
   "execution_count": 2,
   "metadata": {
    "collapsed": false
   },
   "outputs": [],
   "source": [
    "# Defining a network that takes in two states of a game. \n",
    "# Outputs a Q/Reward value of the input move.\n",
    "\n",
    "i_shape = (2, ) + env.observation_space.shape\n",
    "\n",
    "# Model is basically 4 Fully Connected Layers.\n",
    "model = Sequential()\n",
    "model.add(Flatten(input_shape=i_shape))\n",
    "model.add(Dense(20, kernel_initializer='uniform', activation='relu'))\n",
    "model.add(Dense(18, kernel_initializer='uniform', activation='relu'))\n",
    "model.add(Dense(10, kernel_initializer='uniform', activation='relu'))\n",
    "model.add(Dense(env.action_space.n, kernel_initializer='uniform', activation='linear'))\n",
    "\n",
    "model.compile(loss='mse', optimizer='adam', metrics=['accuracy'])"
   ]
  },
  {
   "cell_type": "code",
   "execution_count": 3,
   "metadata": {
    "collapsed": true
   },
   "outputs": [],
   "source": [
    "#HyperParameters\n",
    "\n",
    "# This is going to log the actions taken\n",
    "D = deque()\n",
    "\n",
    "# Number of time steps to observe, probability of a random move. \n",
    "# Weighting the future reward, mini batch size. \n",
    "observetime = 500\n",
    "epsilon = 0.7\n",
    "gamma = 0.9\n",
    "mb_size = 50"
   ]
  },
  {
   "cell_type": "code",
   "execution_count": 4,
   "metadata": {
    "collapsed": true
   },
   "outputs": [],
   "source": [
    "# Define Prior to Implementing Observation Framework\n",
    "\n",
    "# Start the game\n",
    "observation = env.reset()\n",
    "\n",
    "# Observation is the first element in batch\n",
    "obs = np.expand_dims(observation, axis=0)\n",
    "done = False\n",
    "state = np.stack((obs, obs), axis=1)    "
   ]
  },
  {
   "cell_type": "code",
   "execution_count": 5,
   "metadata": {
    "collapsed": false
   },
   "outputs": [
    {
     "name": "stderr",
     "output_type": "stream",
     "text": [
      "100%|██████████| 500/500 [00:01<00:00, 306.76it/s]\n"
     ]
    }
   ],
   "source": [
    "# Implement and Execute Observation Framework on defined number of timesteps\n",
    "\n",
    "for t in tqdm.tqdm(np.arange(observetime)):\n",
    "    \n",
    "# Choose random action if within epsilon\n",
    "    if np.random.random() <= epsilon:\n",
    "        action = np.random.randint(0, env.action_space.n)\n",
    "    else:      \n",
    "# Choose deterministic action based on Q values. \n",
    "        Q = model.predict(state)\n",
    "        action = np.argmax(Q)\n",
    "    \n",
    "    observation_new, reward, done, info = env.step(action)\n",
    "    #  Reward after performing the corresponding action\n",
    "    \n",
    "    #  Record Keeping   \n",
    "    obs_new = np.expand_dims(observation_new, axis=0)\n",
    "    state_temp = np.append(np.expand_dims(obs_new, axis=0), state[:, :1, :], axis=1)\n",
    "    D.append((state, action, reward, state_temp, done))\n",
    "    state = state_temp\n",
    "    \n",
    "    if done:\n",
    "        # Reset the game if finished up\n",
    "        env.reset() \n",
    "        obs = np.expand_dims(observation, axis=0)\n",
    "        state = np.stack((obs, obs), axis=1)"
   ]
  },
  {
   "cell_type": "code",
   "execution_count": 9,
   "metadata": {
    "collapsed": false
   },
   "outputs": [],
   "source": [
    "# Sample Minibatch and define dimensions.\n",
    "\n",
    "minibatch = random.sample(list(D), mb_size)\n",
    "\n",
    "inputs_shape = (mb_size, ) + state.shape[1:]\n",
    "inputs = np.zeros(inputs_shape)\n",
    "targets = np.zeros((mb_size, env.action_space.n))"
   ]
  },
  {
   "cell_type": "code",
   "execution_count": 253,
   "metadata": {
    "collapsed": false
   },
   "outputs": [
    {
     "name": "stderr",
     "output_type": "stream",
     "text": [
      "100%|██████████| 50/50 [00:08<00:00,  6.57it/s]\n"
     ]
    }
   ],
   "source": [
    "# Framework to learn from executed Observation Framework above\n",
    "\n",
    "for i in tqdm.tqdm(np.arange(mb_size)):\n",
    "    \n",
    "    state = minibatch[i][0]\n",
    "    action = minibatch[i][1]\n",
    "    reward = minibatch[i][2]\n",
    "    state_new = minibatch[i][3]\n",
    "    done = minibatch[i][4] \n",
    "    \n",
    "    # Bellman equation for the Q Function   \n",
    "    inputs[i:i+1] = np.expand_dims(state, axis=0)\n",
    "    targets[i] = model.predict(state)\n",
    "    Q_sa = model.predict(state_new)\n",
    "    \n",
    "    # Choose the targets based on whether the game is still on   \n",
    "    if done:\n",
    "        targets[i, action] = reward\n",
    "    else:\n",
    "        targets[i, action] = reward + gamma * np.max(Q_sa)\n",
    "        \n",
    "    #  Train the network to output the Q Function\n",
    "    model.train_on_batch(inputs, targets)"
   ]
  },
  {
   "cell_type": "code",
   "execution_count": 254,
   "metadata": {
    "collapsed": true
   },
   "outputs": [],
   "source": [
    "# Define the game metadata\n",
    "\n",
    "observation = env.reset()\n",
    "obs = np.expand_dims(observation, axis=0)\n",
    "state = np.stack((obs, obs), axis=1)\n",
    "done = False\n",
    "total_reward = 0.0"
   ]
  },
  {
   "cell_type": "code",
   "execution_count": 255,
   "metadata": {
    "collapsed": false
   },
   "outputs": [
    {
     "ename": "NameError",
     "evalue": "name 'q' is not defined",
     "output_type": "error",
     "traceback": [
      "\u001b[0;31m---------------------------------------------------------------------------\u001b[0m",
      "\u001b[0;31mNameError\u001b[0m                                 Traceback (most recent call last)",
      "\u001b[0;32m<ipython-input-255-133cefdddcef>\u001b[0m in \u001b[0;36m<module>\u001b[0;34m()\u001b[0m\n\u001b[1;32m      4\u001b[0m     \u001b[0menv\u001b[0m\u001b[0;34m.\u001b[0m\u001b[0mrender\u001b[0m\u001b[0;34m(\u001b[0m\u001b[0;34m)\u001b[0m\u001b[0;34m\u001b[0m\u001b[0m\n\u001b[1;32m      5\u001b[0m     \u001b[0mQ\u001b[0m \u001b[0;34m=\u001b[0m \u001b[0mmodel\u001b[0m\u001b[0;34m.\u001b[0m\u001b[0mpredict\u001b[0m\u001b[0;34m(\u001b[0m\u001b[0mstate\u001b[0m\u001b[0;34m)\u001b[0m\u001b[0;34m\u001b[0m\u001b[0m\n\u001b[0;32m----> 6\u001b[0;31m     \u001b[0maction\u001b[0m \u001b[0;34m=\u001b[0m \u001b[0mnp\u001b[0m\u001b[0;34m.\u001b[0m\u001b[0margmax\u001b[0m\u001b[0;34m(\u001b[0m\u001b[0mq\u001b[0m\u001b[0;34m)\u001b[0m\u001b[0;34m\u001b[0m\u001b[0m\n\u001b[0m\u001b[1;32m      7\u001b[0m \u001b[0;34m\u001b[0m\u001b[0m\n\u001b[1;32m      8\u001b[0m     \u001b[0;31m# Feedback\u001b[0m\u001b[0;34m\u001b[0m\u001b[0;34m\u001b[0m\u001b[0m\n",
      "\u001b[0;31mNameError\u001b[0m: name 'q' is not defined"
     ]
    }
   ],
   "source": [
    "# Play the game based on the framework learned\n",
    "\n",
    "while not done:\n",
    "    env.render()\n",
    "    Q = model.predict(state)\n",
    "    action = np.argmax(q)\n",
    "    \n",
    "    # Feedback\n",
    "    observation, reward, done, info = env.step(action)\n",
    "    obs = np.exapnd_dims(observation, axis=0)\n",
    "    state = np.append(np.exapnd_dims(obs, axis=1), state[:, :1, :], axis=1)\n",
    "    total_reward = total_reward + reward"
   ]
  },
  {
   "cell_type": "code",
   "execution_count": null,
   "metadata": {
    "collapsed": true
   },
   "outputs": [],
   "source": []
  }
 ],
 "metadata": {
  "kernelspec": {
   "display_name": "Python 3",
   "language": "python",
   "name": "python3"
  },
  "language_info": {
   "codemirror_mode": {
    "name": "ipython",
    "version": 3
   },
   "file_extension": ".py",
   "mimetype": "text/x-python",
   "name": "python",
   "nbconvert_exporter": "python",
   "pygments_lexer": "ipython3",
   "version": "3.4.5"
  }
 },
 "nbformat": 4,
 "nbformat_minor": 2
}
