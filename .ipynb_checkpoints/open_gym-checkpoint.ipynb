{
 "cells": [
  {
   "cell_type": "code",
   "execution_count": 1,
   "metadata": {
    "collapsed": false
   },
   "outputs": [
    {
     "name": "stderr",
     "output_type": "stream",
     "text": [
      "Using TensorFlow backend.\n",
      "[2017-08-18 16:25:04,578] Making new env: Breakout-v0\n"
     ]
    }
   ],
   "source": [
    "# Importing Dependencies\n",
    "\n",
    "# For constructing the ConvNetwork that will determine the Q values of moves? \n",
    "from keras.models import Sequential\n",
    "from keras.layers import Dense, Flatten, Input\n",
    "import numpy as np\n",
    "\n",
    "# For storing and sampling observations.\n",
    "import random\n",
    "from collections import deque\n",
    "import tqdm\n",
    "\n",
    "# Construct environment and choose Breakout from Gym\n",
    "import gym\n",
    "env = gym.make('Breakout-v0')"
   ]
  },
  {
   "cell_type": "code",
   "execution_count": 6,
   "metadata": {
    "collapsed": false
   },
   "outputs": [],
   "source": [
    "# Defining a network that takes in two states of a game. \n",
    "# Outputs a Q/Reward value of the input move.\n",
    "\n",
    "i_shape = (2, ) + env.observation_space.shape\n",
    "\n",
    "# Model is basically 4 Fully Connected Layers.\n",
    "model = Sequential()\n",
    "model.add(Flatten(input_shape=i_shape))\n",
    "model.add(Dense(20, kernel_initializer='uniform', activation='relu'))\n",
    "model.add(Dense(18, kernel_initializer='uniform', activation='relu'))\n",
    "model.add(Dense(10, kernel_initializer='uniform', activation='relu'))\n",
    "model.add(Dense(env.action_space.n, kernel_initializer='uniform', activation='linear'))\n",
    "\n",
    "model.compile(loss='mse', optimizer='adam', metrics=['accuracy'])"
   ]
  },
  {
   "cell_type": "code",
   "execution_count": 7,
   "metadata": {
    "collapsed": true
   },
   "outputs": [],
   "source": [
    "#HyperParameters\n",
    "\n",
    "# This is going to log the actions taken\n",
    "D = deque()\n",
    "\n",
    "# Number of time steps to observe, probability of a random move. \n",
    "# Weighting the future reward, mini batch size. \n",
    "observetime = 500\n",
    "epsilon = 0.7\n",
    "gamma = 0.9\n",
    "mb_size = 50"
   ]
  },
  {
   "cell_type": "code",
   "execution_count": 128,
   "metadata": {
    "collapsed": true
   },
   "outputs": [],
   "source": [
    "# Framework for observing actions. \n",
    "\n",
    "# Start the game\n",
    "observation = env.reset()\n",
    "\n",
    "# Observation is the first element in batch\n",
    "obs = np.expand_dims(observation, axis=0)\n",
    "done = False\n",
    "state = np.stack((obs, obs), axis=1)    "
   ]
  },
  {
   "cell_type": "code",
   "execution_count": 127,
   "metadata": {
    "collapsed": false
   },
   "outputs": [
    {
     "data": {
      "text/plain": [
       "0"
      ]
     },
     "execution_count": 127,
     "metadata": {},
     "output_type": "execute_result"
    }
   ],
   "source": [
    "for t in np.arange(observetime):   \n",
    "    \n",
    "# Choose random action if within epsilon\n",
    "    if np.random.random() <= epsilon:\n",
    "        action = np.random.randint(0, env.action_space.n)\n",
    "    else:      \n",
    "# Choose deterministic action based on Q values. \n",
    "        Q = model.predict(state)\n",
    "        action = np.argmax(Q)\n",
    "    \n",
    "    observation_new, reward, done, info = env.step(action)\n",
    "    #  Reward after performing the corresponding action\n",
    "    \n",
    "    #  Record Keeping   \n",
    "    obs_new = np.expand_dims(observation_new, axis=0)\n",
    "    state_temp = np.append(np.expand_dims(obs_new, axis=0), state[:, :1, :], axis=1)\n",
    "    D.append((state, action, reward, state_temp, done))\n",
    "    state = state_temp\n",
    "    \n",
    "    if done:\n",
    "        # Reset the game if finished up\n",
    "        env.reset() \n",
    "        obs = np.expand_dims(observation, axis=0)\n",
    "        state = np.stack((obs, obs), axis=1)"
   ]
  },
  {
   "cell_type": "code",
   "execution_count": null,
   "metadata": {
    "collapsed": true
   },
   "outputs": [],
   "source": []
  }
 ],
 "metadata": {
  "kernelspec": {
   "display_name": "Python 3",
   "language": "python",
   "name": "python3"
  },
  "language_info": {
   "codemirror_mode": {
    "name": "ipython",
    "version": 3
   },
   "file_extension": ".py",
   "mimetype": "text/x-python",
   "name": "python",
   "nbconvert_exporter": "python",
   "pygments_lexer": "ipython3",
   "version": "3.4.5"
  }
 },
 "nbformat": 4,
 "nbformat_minor": 2
}
