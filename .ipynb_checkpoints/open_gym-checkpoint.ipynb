{
 "cells": [
  {
   "cell_type": "code",
   "execution_count": 1,
   "metadata": {
    "collapsed": false
   },
   "outputs": [
    {
     "name": "stderr",
     "output_type": "stream",
     "text": [
      "Using TensorFlow backend.\n",
      "[2017-08-18 16:25:04,578] Making new env: Breakout-v0\n"
     ]
    }
   ],
   "source": [
    "# Importing Dependencies\n",
    "\n",
    "# For constructing the ConvNetwork that will determine the Q values of moves? \n",
    "from keras.models import Sequential\n",
    "from keras.layers import Dense, Flatten, Input\n",
    "import numpy as np\n",
    "\n",
    "# For storing and sampling observations.\n",
    "import random\n",
    "from collections import deque\n",
    "\n",
    "# Construct environment and choose Breakout from Gym\n",
    "import gym\n",
    "env = gym.make('Breakout-v0')"
   ]
  },
  {
   "cell_type": "code",
   "execution_count": 6,
   "metadata": {
    "collapsed": false
   },
   "outputs": [],
   "source": [
    "# Defining a convolutional network that takes in two states of a game. \n",
    "# Outputs a Q/Reward value of the input move.\n",
    "\n",
    "i_shape = (2, ) + env.observation_space.shape\n",
    "\n",
    "model = Sequential()\n",
    "model.add(Flatten(input_shape=i_shape))\n",
    "model.add(Dense(20, kernel_initializer='uniform', activation='relu'))\n",
    "model.add(Dense(18, kernel_initializer='uniform', activation='relu'))\n",
    "model.add(Dense(10, kernel_initializer='uniform', activation='relu'))\n",
    "model.add(Dense(env.action_space.n, kernel_initializer='uniform', activation='linear'))\n",
    "\n",
    "model.compile(loss='mse', optimizer='adam', metrics=['accuracy'])"
   ]
  },
  {
   "cell_type": "code",
   "execution_count": null,
   "metadata": {
    "collapsed": true
   },
   "outputs": [],
   "source": [
    "#HyperParameters and "
   ]
  }
 ],
 "metadata": {
  "kernelspec": {
   "display_name": "Python 3",
   "language": "python",
   "name": "python3"
  },
  "language_info": {
   "codemirror_mode": {
    "name": "ipython",
    "version": 3
   },
   "file_extension": ".py",
   "mimetype": "text/x-python",
   "name": "python",
   "nbconvert_exporter": "python",
   "pygments_lexer": "ipython3",
   "version": "3.4.5"
  }
 },
 "nbformat": 4,
 "nbformat_minor": 2
}
